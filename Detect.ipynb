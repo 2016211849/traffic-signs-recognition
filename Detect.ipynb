{
 "cells": [
  {
   "cell_type": "markdown",
   "metadata": {},
   "source": [
    "# Detect\n",
    "\n",
    "This notebook contains the necessary functions for searching for the traffic sign in an image. It makes use of a sliding window and finding the maximum probable window."
   ]
  },
  {
   "cell_type": "code",
   "execution_count": 2,
   "metadata": {
    "collapsed": false
   },
   "outputs": [
    {
     "name": "stderr",
     "output_type": "stream",
     "text": [
      "Using Theano backend.\n"
     ]
    }
   ],
   "source": [
    "import numpy as np\n",
    "from skimage.feature import hog\n",
    "from skimage import io\n",
    "from sklearn.externals import joblib\n",
    "import cv2\n",
    "from skimage.transform import pyramid_gaussian\n",
    "import time\n",
    "from keras.models import model_from_json\n",
    "import matplotlib.patches as patches\n",
    "import matplotlib.pyplot as plt"
   ]
  },
  {
   "cell_type": "markdown",
   "metadata": {},
   "source": [
    "### Helper Functions\n",
    "\n",
    "#### This function implements the sliding window\n",
    "\n",
    "The window has the shape of the parameter ** windowSize ** and moves with a stride of ** stepSize **. The lower and upper parts of the images are not searched, as it has been found that 98% of the images do not lie in those regions. This technique helps in increasing speed."
   ]
  },
  {
   "cell_type": "code",
   "execution_count": 3,
   "metadata": {
    "collapsed": true
   },
   "outputs": [],
   "source": [
    "def sliding_window(img,windowSize,stepSize):\n",
    "    y_low = 3*img.shape[0]/16\n",
    "    y_high = 3*img.shape[0]/4\n",
    "    for y in xrange(y_low,y_high,stepSize):\n",
    "        for x in xrange(0,img.shape[1],stepSize):\n",
    "            yield (x,y,img[y:y + windowSize[1],x:x + windowSize[0]])\n"
   ]
  },
  {
   "cell_type": "markdown",
   "metadata": {},
   "source": [
    "#### This function extract HOG features\n",
    "\n",
    "The HOG features are extracted with the parameters of 8x8 pixel cells and 1 cell per block. There are 8 directions for the gradients as mentioned by the parameter **orientations**."
   ]
  },
  {
   "cell_type": "code",
   "execution_count": 4,
   "metadata": {
    "collapsed": true
   },
   "outputs": [],
   "source": [
    "def hog_extract(img):\n",
    "    return hog(img, orientations=8, pixels_per_cell=(8, 8),\n",
    "                    cells_per_block=(1, 1),visualise=False)"
   ]
  },
  {
   "cell_type": "markdown",
   "metadata": {},
   "source": [
    "#### Function for predicting sign in given window\n",
    "\n",
    "The CNN model is loaded from 'model.json' file, where it has already been saved. The model then takes in the **img** and outputs the predicted probabilities. The maximum probable sign is returned"
   ]
  },
  {
   "cell_type": "code",
   "execution_count": 5,
   "metadata": {
    "collapsed": true
   },
   "outputs": [],
   "source": [
    "def predict_sign(img):\n",
    "\n",
    "    img = img.reshape(1,1,32,32)\n",
    "\n",
    "    json_file = open('storage/model.json', 'r')\n",
    "    loaded_model_json = json_file.read()\n",
    "    json_file.close()\n",
    "    loaded_model = model_from_json(loaded_model_json)\n",
    "    # load weights into new model\n",
    "    loaded_model.load_weights(\"storage/model.h5\")\n",
    "    print(\"Loaded model from disk\")\n",
    "\n",
    "    loaded_model.compile(optimizer='sgd',\n",
    "                    metrics=['categorical_accuracy'],\n",
    "                    loss='categorical_crossentropy')\n",
    "    ans = np.argmax(loaded_model.predict(img))\n",
    "    labels = np.load('storage/classes_file.npy')\n",
    "    return (ans,labels[ans])"
   ]
  },
  {
   "cell_type": "markdown",
   "metadata": {},
   "source": [
    "#### This function moves the sliding window and finds the best window\n",
    "\n",
    "A gaussian image pyramid is created for each image. The image is downscaled by the value mentioned in the parameter **scale** and **max_layer** specifies the number of resized images present. A sliding window of shape **WinH,WinW** is used to find the best predicition."
   ]
  },
  {
   "cell_type": "code",
   "execution_count": 6,
   "metadata": {
    "collapsed": true
   },
   "outputs": [],
   "source": [
    "def prediction(img,clf):\n",
    "\n",
    "    best_window = None\n",
    "    scale = 1.2\n",
    "    (winW, winH) = (32, 32)\n",
    "    best_pred = 0\n",
    "    best_x,best_y = 0,0\n",
    "\n",
    "    # Creating an image pyramid using pyramid_gaussian with a depth of three layers which each downscale equals 1.1\n",
    "    for (i, resized) in enumerate(pyramid_gaussian(img,max_layer=2, downscale=scale)):\n",
    "\n",
    "        # Break if scaled image is too small\n",
    "        if resized.shape[0] < 30 or resized.shape[1] < 30:\n",
    "            break\n",
    "\n",
    "\n",
    "        for (x, y, window) in sliding_window(resized, stepSize=10, windowSize=(winW, winH)):\n",
    "\n",
    "            if window.shape[0] != winH or window.shape[1] != winW:\n",
    "                continue\n",
    "\n",
    "            # A prediction is made for every window generated by the sliding window with confidence of prediction\n",
    "            window = window.astype('float32')\n",
    "            window_hog = hog_extract(cv2.cvtColor(window,cv2.COLOR_RGB2GRAY))\n",
    "            window_hog = window_hog.reshape(1, -1)\n",
    "            pred = clf.predict_proba(window_hog)\n",
    "            if pred[0][1] > best_pred:\n",
    "                clone = resized.copy()\n",
    "                best_x = x\n",
    "                best_y = y\n",
    "                best_pred = pred[0][1]\n",
    "                best_window = cv2.cvtColor(window,cv2.COLOR_RGB2GRAY)\n",
    "    cv2.startWindowThread()\n",
    "    cv2.rectangle(clone, (best_x, best_y), (best_x + winW, best_y + winH), (0, 255, 0), 2)\n",
    "    cv2.imshow('Window',clone)\n",
    "    cv2.waitKey(15)\n",
    "    cv2.destroyWindow('Window')\n",
    "    print 'The prediction is : '\n",
    "    print predict_sign(best_window)\n"
   ]
  },
  {
   "cell_type": "markdown",
   "metadata": {},
   "source": [
    "The image is loaded from the **file_path** and the detection and recognition is done for that image"
   ]
  },
  {
   "cell_type": "code",
   "execution_count": 7,
   "metadata": {
    "collapsed": false
   },
   "outputs": [],
   "source": [
    "file_path = 'datasets/FullIJCNN2013/00699.ppm'\n",
    "img = cv2.imread(file_path)\n",
    "clf = joblib.load('storage/clf.sav')\n",
    "prediction(img,clf)"
   ]
  }
 ],
 "metadata": {
  "anaconda-cloud": {},
  "kernelspec": {
   "display_name": "Python [Root]",
   "language": "python",
   "name": "Python [Root]"
  },
  "language_info": {
   "codemirror_mode": {
    "name": "ipython",
    "version": 2
   },
   "file_extension": ".py",
   "mimetype": "text/x-python",
   "name": "python",
   "nbconvert_exporter": "python",
   "pygments_lexer": "ipython2",
   "version": "2.7.12"
  }
 },
 "nbformat": 4,
 "nbformat_minor": 0
}
